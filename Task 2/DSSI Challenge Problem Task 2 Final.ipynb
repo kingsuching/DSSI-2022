{
 "cells": [
  {
   "cell_type": "code",
   "execution_count": 2,
   "metadata": {},
   "outputs": [],
   "source": [
    "import h5py\n",
    "import pandas as pd\n",
    "import numpy as np\n",
    "from sklearn.preprocessing import *\n",
    "from sklearn.compose import *\n",
    "from sklearn.metrics import *\n",
    "from sklearn.neighbors import *\n",
    "from sklearn.pipeline import *\n",
    "from tensorflow import keras\n",
    "from FAST_master.model.threedcnn.img_util import voxelize_3d\n",
    "from tensorflow.keras.metrics import *\n",
    "from scipy.ndimage.interpolation import rotate\n",
    "\n",
    "train = h5py.File(\"OneDrive_1_7-21-2022/postera_protease2_pos_neg_train.hdf5\", \"r\")\n",
    "validation = h5py.File(\"OneDrive_1_7-21-2022/postera_protease2_pos_neg_val.hdf5\", \"r\")\n",
    "test = h5py.File(\"OneDrive_1_7-21-2022/postera_protease2_pos_neg_test.hdf5\", \"r\")"
   ]
  },
  {
   "cell_type": "markdown",
   "metadata": {},
   "source": [
    "# Functions"
   ]
  },
  {
   "cell_type": "code",
   "execution_count": 7,
   "metadata": {},
   "outputs": [],
   "source": [
    "def data(file):\n",
    "    listKeys = list(file.keys())\n",
    "    data = np.zeros((len(listKeys), 100, 22))\n",
    "    i = 0\n",
    "    for key in listKeys:\n",
    "        data[i] = file[key][\"ligand\"].value # add atoms data\n",
    "        i += 1\n",
    "    return data\n",
    "\n",
    "def labels(file): # get each ligand's associated label (overall)\n",
    "    labels = []\n",
    "    for key in file.keys():\n",
    "        labels.append(file[key].attrs[\"label\"])\n",
    "    return np.array(labels)\n",
    "\n",
    "def voxelize(file = None, dim = [19, 10, 10, 10], do_data = None): # create voxelized cube data for the input of the model in 19x10x10x10 format\n",
    "    d = None\n",
    "    if do_data is not None:\n",
    "        d = do_data\n",
    "    elif file is not None:\n",
    "        d = data(file)\n",
    "    else:\n",
    "        return\n",
    "        \n",
    "    voxelized = np.zeros((d.shape[0], dim[0], dim[1], dim[2], dim[3]))\n",
    "    for i in range(d.shape[0]): # iterate for each ligand\n",
    "        voxelized[i] = voxelize_3d(xyz=d[i, :, 0:3], feat=d[i, :, 3:], vol_dim=dim)\n",
    "    if file is not None:\n",
    "        return [voxelized, labels(file)]\n",
    "    return voxelized"
   ]
  },
  {
   "cell_type": "code",
   "execution_count": 8,
   "metadata": {},
   "outputs": [
    {
     "name": "stderr",
     "output_type": "stream",
     "text": [
      "/Users/sucheen/opt/anaconda3/lib/python3.7/site-packages/ipykernel_launcher.py:6: H5pyDeprecationWarning: dataset.value has been deprecated. Use dataset[()] instead.\n",
      "  \n"
     ]
    }
   ],
   "source": [
    "# voxelize other things\n",
    "train_things = voxelize(train)\n",
    "train_arr = train_things[0]\n",
    "train_labels = train_things[1]"
   ]
  },
  {
   "cell_type": "markdown",
   "metadata": {},
   "source": [
    "# Fit Model"
   ]
  },
  {
   "cell_type": "code",
   "execution_count": 4,
   "metadata": {},
   "outputs": [],
   "source": [
    "from tensorflow.keras.models import *\n",
    "from tensorflow.keras.layers import *\n",
    "from tensorflow.keras.utils import *\n",
    "import os\n",
    "os.environ[\"CUDA_DEVICE_ORDER\"] = \"PCI_BUS_ID\"\n",
    "os.environ[\"CUDA_VISIBLE_DEVICES\"] = \"\""
   ]
  },
  {
   "cell_type": "code",
   "execution_count": 9,
   "metadata": {},
   "outputs": [
    {
     "name": "stderr",
     "output_type": "stream",
     "text": [
      "/Users/sucheen/opt/anaconda3/lib/python3.7/site-packages/ipykernel_launcher.py:6: H5pyDeprecationWarning: dataset.value has been deprecated. Use dataset[()] instead.\n",
      "  \n"
     ]
    }
   ],
   "source": [
    "voxelize_validation = voxelize(validation)\n",
    "validation_voxel = voxelize_validation[0]\n",
    "validation_label = voxelize_validation[1]"
   ]
  },
  {
   "cell_type": "code",
   "execution_count": 6,
   "metadata": {},
   "outputs": [
    {
     "data": {
      "text/plain": [
       "\"model = Sequential()\\nshape = (19, 10, 10, 10)\\nmodel.add(Conv3D(32, kernel_size=(3, 3, 3), activation='relu', kernel_initializer='he_uniform', input_shape=shape))\\nmodel.add(MaxPooling3D(pool_size=(2, 2, 2)))\\nmodel.add(BatchNormalization(center=True, scale=True))\\nmodel.add(Dropout(0.5))\\nmodel.add(Conv3D(64, kernel_size=(3, 3, 3), activation='relu', kernel_initializer='he_uniform'))\\nmodel.add(MaxPooling3D(pool_size=(2, 2, 2)))\\nmodel.add(BatchNormalization(center=True, scale=True))\\nmodel.add(Dropout(0.5))\\nmodel.add(Flatten())\\nmodel.add(Dense(256, activation='relu', kernel_initializer='he_uniform'))\\nmodel.add(Dense(256, activation='relu', kernel_initializer='he_uniform'))\\nmodel.add(Dense(10, activation='softmax'))\\n\\nmodel.compile(loss='sparse_categorical_crossentropy',\\n              optimizer=keras.optimizers.Adam(lr=0.001),\\n              metrics=['accuracy'])\\nfitted = model.fit(voxelized_train, np.array(train_labels),\\n            batch_size=256,\\n            epochs=200,\\n            verbose=1,\\n            validation_data = (validation_voxel, validation_label))\""
      ]
     },
     "execution_count": 6,
     "metadata": {},
     "output_type": "execute_result"
    }
   ],
   "source": [
    "# https://towardsdatascience.com/step-by-step-implementation-3d-convolutional-neural-network-in-keras-12efbdd7b130\n",
    "\n",
    "model = Sequential()\n",
    "shape = (19, 10, 10, 10)\n",
    "model.add(Conv3D(32, kernel_size=(3, 3, 3), activation='relu', kernel_initializer='he_uniform', input_shape=shape))\n",
    "model.add(MaxPooling3D(pool_size=(2, 2, 2)))\n",
    "model.add(BatchNormalization(center=True, scale=True))\n",
    "model.add(Dropout(0.5))\n",
    "model.add(Conv3D(64, kernel_size=(3, 3, 3), activation='relu', kernel_initializer='he_uniform'))\n",
    "model.add(MaxPooling3D(pool_size=(2, 2, 2)))\n",
    "model.add(BatchNormalization(center=True, scale=True))\n",
    "model.add(Dropout(0.5))\n",
    "model.add(Flatten())\n",
    "model.add(Dense(256, activation='relu', kernel_initializer='he_uniform'))\n",
    "model.add(Dense(256, activation='relu', kernel_initializer='he_uniform'))\n",
    "model.add(Dense(10, activation='softmax'))\n",
    "\n",
    "model.compile(loss='sparse_categorical_crossentropy',\n",
    "              optimizer=keras.optimizers.Adam(lr=0.001),\n",
    "              metrics=['accuracy'])\n",
    "fitted = model.fit(voxelized_train, np.array(train_labels),\n",
    "            batch_size=256,\n",
    "            epochs=200,\n",
    "            verbose=1,\n",
    "            validation_data = (validation_voxel, validation_label))"
   ]
  },
  {
   "cell_type": "code",
   "execution_count": 7,
   "metadata": {},
   "outputs": [],
   "source": [
    "model = load_model(\"model.h5\")\n",
    "model.save(\"model.h5\")"
   ]
  },
  {
   "cell_type": "code",
   "execution_count": 8,
   "metadata": {},
   "outputs": [],
   "source": [
    "def cv(train, labels, v = 10):\n",
    "    if len(train) != len(labels):\n",
    "        raise ValueError(\"length mismatch\")\n",
    "    i = 0\n",
    "    j = len(train)//v\n",
    "    arr = list(np.arange(0, len(train), 1))\n",
    "    test_index = [ind for ind in arr if not (ind >= i and ind <= j)]\n",
    "    fold_train = train[i:j+1]\n",
    "    fold_train_labels = labels[i:j+1]\n",
    "    fold_test = train[test_index]\n",
    "    fold_test_labels = labels[test_index]\n",
    "    accuracies = []\n",
    "    \n",
    "    model = Sequential()\n",
    "    shape = (19, 10, 10, 10)\n",
    "    model.add(Conv3D(32, kernel_size=(3, 3, 3), activation='relu', kernel_initializer='he_uniform', input_shape=shape))\n",
    "    model.add(MaxPooling3D(pool_size=(2, 2, 2)))\n",
    "    model.add(BatchNormalization(center=True, scale=True))\n",
    "    model.add(Dropout(0.5))\n",
    "    model.add(Conv3D(64, kernel_size=(3, 3, 3), activation='relu', kernel_initializer='he_uniform'))\n",
    "    model.add(MaxPooling3D(pool_size=(2, 2, 2)))\n",
    "    model.add(BatchNormalization(center=True, scale=True))\n",
    "    model.add(Dropout(0.5))\n",
    "    model.add(Flatten())\n",
    "    model.add(Dense(256, activation='relu', kernel_initializer='he_uniform'))\n",
    "    model.add(Dense(256, activation='relu', kernel_initializer='he_uniform'))\n",
    "    model.add(Dense(10, activation='softmax'))\n",
    "\n",
    "    model.compile(loss='sparse_categorical_crossentropy',\n",
    "                  optimizer=keras.optimizers.Adam(lr=0.001),\n",
    "                  metrics=['accuracy'])\n",
    "    accuracies = np.array([])\n",
    "    while j < len(train):\n",
    "        print(f\"{i} to {j}\")\n",
    "        model.fit(fold_train, fold_train_labels,\n",
    "            batch_size=128,\n",
    "            epochs=100,\n",
    "            verbose=1,\n",
    "            validation_data = (fold_test, fold_test_labels))\n",
    "        predictions = model.predict_classes(fold_test)\n",
    "        acc = accuracy_score(y_true = fold_test_labels, y_pred=predictions)\n",
    "        accuracies = np.append(accuracies, acc)\n",
    "        i = j\n",
    "        j += len(train)//v\n",
    "    return np.mean(accuracies)\n",
    "    \n",
    "#cv(train = voxelized_train, labels = labels(train), v=50)"
   ]
  },
  {
   "cell_type": "code",
   "execution_count": 9,
   "metadata": {},
   "outputs": [
    {
     "data": {
      "text/plain": [
       "array([0, 0, 0, ..., 0, 0, 0])"
      ]
     },
     "execution_count": 9,
     "metadata": {},
     "output_type": "execute_result"
    }
   ],
   "source": [
    "\n",
    "validation_label"
   ]
  },
  {
   "cell_type": "code",
   "execution_count": 10,
   "metadata": {},
   "outputs": [
    {
     "name": "stdout",
     "output_type": "stream",
     "text": [
      "WARNING:tensorflow:From <ipython-input-10-062ef1d583ff>:1: Sequential.predict_classes (from tensorflow.python.keras.engine.sequential) is deprecated and will be removed after 2021-01-01.\n",
      "Instructions for updating:\n",
      "Please use instead:* `np.argmax(model.predict(x), axis=-1)`,   if your model does multi-class classification   (e.g. if it uses a `softmax` last-layer activation).* `(model.predict(x) > 0.5).astype(\"int32\")`,   if your model does binary classification   (e.g. if it uses a `sigmoid` last-layer activation).\n"
     ]
    },
    {
     "data": {
      "text/plain": [
       "0.7221238938053097"
      ]
     },
     "execution_count": 10,
     "metadata": {},
     "output_type": "execute_result"
    }
   ],
   "source": [
    "accuracy_score(y_true = labels(validation), y_pred=model.predict_classes(validation_voxel))"
   ]
  },
  {
   "cell_type": "code",
   "execution_count": 11,
   "metadata": {},
   "outputs": [
    {
     "name": "stdout",
     "output_type": "stream",
     "text": [
      "WARNING:tensorflow:From <ipython-input-11-88b3a7592b11>:3: Sequential.predict_proba (from tensorflow.python.keras.engine.sequential) is deprecated and will be removed after 2021-01-01.\n",
      "Instructions for updating:\n",
      "Please use `model.predict()` instead.\n"
     ]
    },
    {
     "name": "stderr",
     "output_type": "stream",
     "text": [
      "/Users/sucheen/opt/anaconda3/lib/python3.7/site-packages/ipykernel_launcher.py:6: H5pyDeprecationWarning: dataset.value has been deprecated. Use dataset[()] instead.\n",
      "  \n"
     ]
    },
    {
     "name": "stdout",
     "output_type": "stream",
     "text": [
      "[[432 168]\n",
      " [268 412]]\n"
     ]
    }
   ],
   "source": [
    "import sklearn\n",
    "from sklearn.metrics import *\n",
    "p = model.predict_proba(validation_voxel)\n",
    "roc_auc_score(y_true = labels(validation), y_score = p[:, 1])\n",
    "\n",
    "print(confusion_matrix(y_true = labels(test), y_pred=model.predict_classes(voxelize(test)[0])))"
   ]
  },
  {
   "cell_type": "code",
   "execution_count": 10,
   "metadata": {},
   "outputs": [
    {
     "name": "stderr",
     "output_type": "stream",
     "text": [
      "/Users/sucheen/opt/anaconda3/lib/python3.7/site-packages/ipykernel_launcher.py:6: H5pyDeprecationWarning: dataset.value has been deprecated. Use dataset[()] instead.\n",
      "  \n"
     ]
    },
    {
     "name": "stdout",
     "output_type": "stream",
     "text": [
      "WARNING:tensorflow:From <ipython-input-10-842a3bd26585>:3: Sequential.predict_classes (from tensorflow.python.keras.engine.sequential) is deprecated and will be removed after 2021-01-01.\n",
      "Instructions for updating:\n",
      "Please use instead:* `np.argmax(model.predict(x), axis=-1)`,   if your model does multi-class classification   (e.g. if it uses a `softmax` last-layer activation).* `(model.predict(x) > 0.5).astype(\"int32\")`,   if your model does binary classification   (e.g. if it uses a `sigmoid` last-layer activation).\n",
      "WARNING:tensorflow:From <ipython-input-10-842a3bd26585>:5: Sequential.predict_proba (from tensorflow.python.keras.engine.sequential) is deprecated and will be removed after 2021-01-01.\n",
      "Instructions for updating:\n",
      "Please use `model.predict()` instead.\n"
     ]
    },
    {
     "data": {
      "text/plain": [
       "0.786"
      ]
     },
     "execution_count": 10,
     "metadata": {},
     "output_type": "execute_result"
    }
   ],
   "source": [
    "# test accuracy\n",
    "test_items = voxelize(test)\n",
    "pred = model.predict_classes(test_items[0])\n",
    "actual = labels(validation)\n",
    "round(roc_auc_score(actual, model.predict_proba(validation_voxel)[:, 1]), 3)"
   ]
  },
  {
   "cell_type": "code",
   "execution_count": 13,
   "metadata": {},
   "outputs": [
    {
     "data": {
      "text/plain": [
       "0.43802360527114936"
      ]
     },
     "execution_count": 13,
     "metadata": {},
     "output_type": "execute_result"
    }
   ],
   "source": [
    "matthews_corrcoef(validation_label, model.predict_classes(validation_voxel))"
   ]
  },
  {
   "cell_type": "code",
   "execution_count": 31,
   "metadata": {},
   "outputs": [
    {
     "data": {
      "text/plain": [
       "<sklearn.metrics._plot.confusion_matrix.ConfusionMatrixDisplay at 0x7fe03685b450>"
      ]
     },
     "execution_count": 31,
     "metadata": {},
     "output_type": "execute_result"
    },
    {
     "data": {
      "image/png": "[encoded data removed]",
      "text/plain": [
       "<Figure size 432x288 with 2 Axes>"
      ]
     },
     "metadata": {
      "needs_background": "light"
     },
     "output_type": "display_data"
    }
   ],
   "source": [
    "cm = confusion_matrix(y_true=labels(test), y_pred=model.predict_classes(test_items[0]))\n",
    "ConfusionMatrixDisplay(cm, display_labels = [\"bind\", \"no bind\"]).plot()"
   ]
  },
  {
   "cell_type": "code",
   "execution_count": 5,
   "metadata": {},
   "outputs": [],
   "source": [
    "model = load_model(\"model.h5\")"
   ]
  },
  {
   "cell_type": "markdown",
   "metadata": {},
   "source": [
    "# Rotate Ligands"
   ]
  },
  {
   "cell_type": "markdown",
   "metadata": {},
   "source": [
    "## post-voxelization "
   ]
  },
  {
   "cell_type": "code",
   "execution_count": 16,
   "metadata": {},
   "outputs": [
    {
     "name": "stderr",
     "output_type": "stream",
     "text": [
      "/Users/sucheen/opt/anaconda3/lib/python3.7/site-packages/ipykernel_launcher.py:6: H5pyDeprecationWarning: dataset.value has been deprecated. Use dataset[()] instead.\n",
      "  \n"
     ]
    }
   ],
   "source": [
    "train_arr = data(train) # non-voxelized\n",
    "theta = np.deg2rad(30)"
   ]
  },
  {
   "cell_type": "code",
   "execution_count": 17,
   "metadata": {},
   "outputs": [
    {
     "data": {
      "text/plain": [
       "1505174"
      ]
     },
     "execution_count": 17,
     "metadata": {},
     "output_type": "execute_result"
    }
   ],
   "source": [
    "angle = np.random.randint(360)\n",
    "len(np.unique(train_arr))"
   ]
  },
  {
   "cell_type": "code",
   "execution_count": null,
   "metadata": {},
   "outputs": [],
   "source": [
    "import matplotlib.pyplot as plt\n",
    "from mpl_toolkits.mplot3d import Axes3D\n",
    "size = 5\n",
    "for i in np.random.randint(len(train), size=size):\n",
    "    figure = plt.figure(figsize=(7, 7))\n",
    "    axis = figure.add_subplot(111, projection=\"3d\")\n",
    "    x = train_arr[i, :, 0]\n",
    "    y = train_arr[i, :, 1]\n",
    "    z = train_arr[i, :, 2]\n",
    "    axis.scatter(x, y, z)\n",
    "    axis.set_xlabel(\"x\")\n",
    "    axis.set_ylabel(\"y\")\n",
    "    axis.set_zlabel(\"z\")\n",
    "    axis.set_title(f\"ligand {i}\")\n",
    "    figure.show()"
   ]
  },
  {
   "cell_type": "code",
   "execution_count": null,
   "metadata": {},
   "outputs": [],
   "source": [
    "from sklearn.metrics import *\n",
    "plot = ConfusionMatrixDisplay(confusion_matrix(y_true = labels(test), y_pred=model.predict_classes(test_items[0])), display_labels=[\"1\", \"0\"])\n",
    "plot.plot(cmap='Blues')"
   ]
  },
  {
   "cell_type": "code",
   "execution_count": null,
   "metadata": {},
   "outputs": [
    {
     "name": "stdout",
     "output_type": "stream",
     "text": [
      "51\n"
     ]
    }
   ],
   "source": [
    "dim1s = pd.Series(index = list(range(360)))\n",
    "from IPython.display import clear_output\n",
    "for theta in range(1, 360):\n",
    "    print(theta)\n",
    "    dim1s[theta] = rotate(data(train), angle=theta).shape[0]\n",
    "    clear_output(wait=True)\n",
    "dim1s.idxmax()"
   ]
  },
  {
   "cell_type": "code",
   "execution_count": 69,
   "metadata": {},
   "outputs": [
    {
     "data": {
      "text/plain": [
       "0.7857479443390261"
      ]
     },
     "execution_count": 69,
     "metadata": {},
     "output_type": "execute_result"
    }
   ],
   "source": [
    "roc_auc_score(y_true=labels(validation), y_score=model.predict_proba(validation_voxel)[:, 1])"
   ]
  },
  {
   "cell_type": "code",
   "execution_count": 123,
   "metadata": {
    "scrolled": true
   },
   "outputs": [
    {
     "data": {
      "text/plain": [
       "Text(0, 0.5, 'TPR')"
      ]
     },
     "execution_count": 123,
     "metadata": {},
     "output_type": "execute_result"
    },
    {
     "data": {
      "image/png": "[encoded data removed]",
      "text/plain": [
       "<Figure size 432x288 with 1 Axes>"
      ]
     },
     "metadata": {
      "needs_background": "light"
     },
     "output_type": "display_data"
    }
   ],
   "source": [
    "import matplotlib.pyplot as plt\n",
    "fpr, tpr, item = roc_curve(y_true=labels(test), y_score=model.predict_proba(test_items[0])[:, 1])\n",
    "plt.plot(fpr, tpr)\n",
    "arr = np.arange(0, 1, 1/len(fpr))\n",
    "plt.plot(arr, arr)\n",
    "plt.title(\"ROC Curve for Test\")\n",
    "plt.xlabel(\"FPR\")\n",
    "plt.ylabel(\"TPR\")"
   ]
  },
  {
   "cell_type": "code",
   "execution_count": 124,
   "metadata": {},
   "outputs": [
    {
     "data": {
      "text/plain": [
       "0.7075392156862745"
      ]
     },
     "execution_count": 124,
     "metadata": {},
     "output_type": "execute_result"
    }
   ],
   "source": [
    "roc_auc_score(y_true=labels(test), y_score=model.predict_proba(test_items[0])[:, 1])"
   ]
  },
  {
   "cell_type": "code",
   "execution_count": 125,
   "metadata": {},
   "outputs": [
    {
     "name": "stdout",
     "output_type": "stream",
     "text": [
      "              precision    recall  f1-score   support\n",
      "\n",
      "           0       0.62      0.72      0.66       600\n",
      "           1       0.71      0.61      0.65       680\n",
      "\n",
      "    accuracy                           0.66      1280\n",
      "   macro avg       0.66      0.66      0.66      1280\n",
      "weighted avg       0.67      0.66      0.66      1280\n",
      "\n"
     ]
    }
   ],
   "source": [
    "print(classification_report(y_true = labels(test), y_pred = model.predict_classes(test_items[0])))"
   ]
  }
 ],
 "metadata": {
  "kernelspec": {
   "display_name": "Python 3",
   "language": "python",
   "name": "python3"
  },
  "language_info": {
   "codemirror_mode": {
    "name": "ipython",
    "version": 3
   },
   "file_extension": ".py",
   "mimetype": "text/x-python",
   "name": "python",
   "nbconvert_exporter": "python",
   "pygments_lexer": "ipython3",
   "version": "3.7.6"
  }
 },
 "nbformat": 4,
 "nbformat_minor": 4
}
